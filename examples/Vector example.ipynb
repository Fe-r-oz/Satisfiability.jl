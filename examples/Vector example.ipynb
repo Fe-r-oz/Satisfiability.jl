{
 "cells": [
  {
   "cell_type": "code",
   "execution_count": 1,
   "metadata": {},
   "outputs": [],
   "source": [
    "using BooleanSatisfiability\n",
    "using LinearAlgebra, Plots"
   ]
  },
  {
   "cell_type": "markdown",
   "metadata": {},
   "source": [
    "## Scheduling task:\n",
    "We have n people's availabilities for 9a, 10a, 11a, 12, 1p, 2p, 3p, 4p defined as a vector of 0 and 1's\n",
    "We would like to schedule $J$ meetings between different groups of people, represented by $J$ index sets $\\mathcal{I_j}\\subseteq\\{1,\\dots,n\\}$.\n",
    "\n",
    "Rules:\n",
    "* Each meeting $\\mathcal{I}_j$ must occur at one time $t$\n",
    "* All people attending meeting $\\mathcal{I}_j$ must be available at time $t$\n",
    "* All people attending meeting $\\mathcal{I}_j$ must not be attending another meeting at time $t$\n",
    "* No attendee should have >2 hours of consecutive meetings."
   ]
  },
  {
   "cell_type": "code",
   "execution_count": 78,
   "metadata": {},
   "outputs": [
    {
     "data": {
      "text/plain": [
       "5"
      ]
     },
     "execution_count": 78,
     "metadata": {},
     "output_type": "execute_result"
    }
   ],
   "source": [
    "n = 5 # number of people\n",
    "T = 8 # number of times\n",
    "# nx8 matrix: each row is one attendee's meeting availability\n",
    "A_bar = [\n",
    "    1 0 1 0 1 1 1 1\n",
    "    0 1 1 0 0 1 0 1\n",
    "    0 1 0 0 0 0 0 1\n",
    "    1 1 0 1 0 1 0 0\n",
    "    0 0 1 1 1 1 0 1\n",
    "]\n",
    "index_sets = [[1,2,3], [4,5], [1,3,5], [3,4], [1,4]]\n",
    "J = length(index_sets) # number of meetings"
   ]
  },
  {
   "cell_type": "markdown",
   "metadata": {},
   "source": [
    "Define $\\bar a_{it}\\in\\{0,1\\}$ = the known availability of person $i$ at time $t$ and $\\bar A\\in\\{0,1\\}^{n\\times T}$.\n",
    "\n",
    "Define $a_{it} \\in\\{0,1\\}$ = 1 if person $i$ is attending a meeting at time $t$, 0 otherwise. $A\\in\\{0,1\\}^{n\\times T}$.\n",
    "\n",
    "Define $m_j\\in\\{0,1\\}^T$ = the time at which meeting $\\mathcal{I}_j$ is scheduled, in one-hot encoding.\n",
    "\n",
    "Since $\\bar A$ is known, the goal is to find a satisfying assignment of $A$ and $m_1,\\dots,m_J$ such that all meetings can occur following the given rules."
   ]
  },
  {
   "cell_type": "markdown",
   "metadata": {},
   "source": [
    "* $m_j$ is the time when meeting $j$ can occur:\n",
    "$$m_{j,t} = \\bigwedge_{i\\in\\mathcal{I}_j} a_{it}$$\n",
    "\n",
    "* All people attending $\\mathcal{I}_j$ must be available at time $t$ and not attending another meeting:\n",
    "$$\\bigwedge_{it} \\bar a_{it} \\implies \\neg a_{it}$$\n",
    "$$\\bigwedge_j \\bigvee_t \\left(m_{j,t}\\wedge \\left(\\bigwedge_{j'\\neq j} \\neg m_{j', t}\\right)\\right)$$\n",
    "\n",
    "* No attendee should have more than two consecutive hours of meetings\n",
    "$$\\bigwedge_i \\bigwedge_{t=1,\\dots,T-2} \\neg(a_{i,t}\\wedge a_{i,t+1} \\wedge a_{i,t+2})$$"
   ]
  },
  {
   "cell_type": "code",
   "execution_count": 79,
   "metadata": {},
   "outputs": [
    {
     "data": {
      "text/plain": [
       ":SAT"
      ]
     },
     "execution_count": 79,
     "metadata": {},
     "output_type": "execute_result"
    }
   ],
   "source": [
    "A = Bool(n,T,\"A\")\n",
    "#past_availability = all(¬A_bar .⟹ ¬A)\n",
    "booked = BoolExpr[]\n",
    "for i=1:n\n",
    "    for t=1:T\n",
    "        if A_bar[i,t]==0\n",
    "            push!(booked, ¬A[i,t])\n",
    "        end\n",
    "    end\n",
    "end\n",
    "unavailability = all(booked)\n",
    "\n",
    "M = [and(A[index_sets[j], t]) for j=1:J, t=1:T]\n",
    "\n",
    "# everyone must be available at some time t and not attending another meeting\n",
    "inner = [and([M[j:j,t]; A[index_sets[j],t]]) for j=1:J, t=1:T]\n",
    "meetings = [or(inner[j,:]) for j=1:J]\n",
    "\n",
    "# nobody should have more than 2 consecutive hours of meetings\n",
    "time_limit = all([¬and(A[i,t:t+2]) for i=1:n, t=1:T-2])\n",
    "\n",
    "# solve\n",
    "exprs = [ and(meetings), unavailability, time_limit]\n",
    "status = sat!(exprs)"
   ]
  },
  {
   "cell_type": "code",
   "execution_count": 80,
   "metadata": {},
   "outputs": [
    {
     "data": {
      "text/plain": [
       "5×8 Matrix{Bool}:\n",
       " 1  0  0  0  0  1  0  1\n",
       " 0  0  0  0  0  0  0  1\n",
       " 0  1  0  0  0  0  0  1\n",
       " 1  1  0  1  0  1  0  0\n",
       " 0  0  0  1  0  1  0  1"
      ]
     },
     "execution_count": 80,
     "metadata": {},
     "output_type": "execute_result"
    }
   ],
   "source": [
    "value(A)"
   ]
  },
  {
   "cell_type": "code",
   "execution_count": 81,
   "metadata": {
    "scrolled": true
   },
   "outputs": [
    {
     "data": {
      "text/plain": [
       "5×8 Matrix{Bool}:\n",
       " 0  0  0  0  0  0  0  1\n",
       " 0  0  0  1  0  1  0  0\n",
       " 0  0  0  0  0  0  0  1\n",
       " 0  1  0  0  0  0  0  0\n",
       " 1  0  0  0  0  1  0  0"
      ]
     },
     "execution_count": 81,
     "metadata": {},
     "output_type": "execute_result"
    }
   ],
   "source": [
    "value(M)"
   ]
  },
  {
   "cell_type": "markdown",
   "metadata": {},
   "source": [
    "## Now let's see what this would look like in SMTLIB2"
   ]
  },
  {
   "cell_type": "code",
   "execution_count": 82,
   "metadata": {},
   "outputs": [
    {
     "name": "stdout",
     "output_type": "stream",
     "text": [
      "1 (declare-const A_1_1 Bool)\n",
      "2 (declare-const A_2_1 Bool)\n",
      "3 (declare-const A_3_1 Bool)\n",
      "4 (declare-const A_1_2 Bool)\n",
      "5 (declare-const A_2_2 Bool)\n",
      "6 (declare-const A_3_2 Bool)\n",
      "7 (declare-const A_1_3 Bool)\n",
      "8 (declare-const A_2_3 Bool)\n",
      "9 (declare-const A_3_3 Bool)\n",
      "10 (declare-const A_1_4 Bool)\n",
      "11 (declare-const A_2_4 Bool)\n",
      "12 (declare-const A_3_4 Bool)\n",
      "13 (declare-const A_1_5 Bool)\n",
      "14 (declare-const A_2_5 Bool)\n",
      "15 (declare-const A_3_5 Bool)\n",
      "16 (declare-const A_1_6 Bool)\n",
      "17 (declare-const A_2_6 Bool)\n",
      "18 (declare-const A_3_6 Bool)\n",
      "19 (declare-const A_1_7 Bool)\n",
      "20 (declare-const A_2_7 Bool)\n",
      "21 (declare-const A_3_7 Bool)\n",
      "22 (declare-const A_1_8 Bool)\n",
      "23 (declare-const A_2_8 Bool)\n",
      "24 (declare-const A_3_8 Bool)\n",
      "25 (declare-const A_4_1 Bool)\n",
      "26 (declare-const A_5_1 Bool)\n",
      "27 (declare-const A_4_2 Bool)\n",
      "28 (declare-const A_5_2 Bool)\n",
      "29 (declare-const A_4_3 Bool)\n",
      "30 (declare-const A_5_3 Bool)\n",
      "31 (declare-const A_4_4 Bool)\n",
      "32 (declare-const A_5_4 Bool)\n",
      "33 (declare-const A_4_5 Bool)\n",
      "34 (declare-const A_5_5 Bool)\n",
      "35 (declare-const A_4_6 Bool)\n",
      "36 (declare-const A_5_6 Bool)\n",
      "37 (declare-const A_4_7 Bool)\n",
      "38 (declare-const A_5_7 Bool)\n",
      "39 (declare-const A_4_8 Bool)\n",
      "40 (declare-const A_5_8 Bool)\n",
      "41 (define-fun AND_518a1de68820ae6f () Bool (and A_1_1 A_2_1 A_3_1))\n",
      "42 (define-fun AND_9ff2b37b65adb1e () Bool (and AND_518a1de68820ae6f A_1_1 A_2_1 A_3_1))\n",
      "43 (define-fun AND_7f0c5048b0ecf086 () Bool (and A_1_2 A_2_2 A_3_2))\n",
      "44 (define-fun AND_776b53308c93b224 () Bool (and AND_7f0c5048b0ecf086 A_1_2 A_2_2 A_3_2))\n",
      "45 (define-fun AND_7c43cc52cedf3766 () Bool (and A_1_3 A_2_3 A_3_3))\n",
      "46 (define-fun AND_339fdf0418cb9eb2 () Bool (and AND_7c43cc52cedf3766 A_1_3 A_2_3 A_3_3))\n",
      "47 (define-fun AND_7a5e401263fa14c2 () Bool (and A_1_4 A_2_4 A_3_4))\n",
      "48 (define-fun AND_3bda3cff5d9d2099 () Bool (and AND_7a5e401263fa14c2 A_1_4 A_2_4 A_3_4))\n",
      "49 (define-fun AND_96137b8e83312cbe () Bool (and A_1_5 A_2_5 A_3_5))\n",
      "50 (define-fun AND_c1bdf0ae7b6334f4 () Bool (and AND_96137b8e83312cbe A_1_5 A_2_5 A_3_5))\n",
      "51 (define-fun AND_860966636f421fa6 () Bool (and A_1_6 A_2_6 A_3_6))\n",
      "52 (define-fun AND_7f0ad695ab8f3b5 () Bool (and AND_860966636f421fa6 A_1_6 A_2_6 A_3_6))\n",
      "53 (define-fun AND_d955a1fc831575d2 () Bool (and A_1_7 A_2_7 A_3_7))\n",
      "54 (define-fun AND_e35c3e17ede7db1 () Bool (and AND_d955a1fc831575d2 A_1_7 A_2_7 A_3_7))\n",
      "55 (define-fun AND_60f36fb73cb68ec7 () Bool (and A_1_8 A_2_8 A_3_8))\n",
      "56 (define-fun AND_fe735173dc820f50 () Bool (and AND_60f36fb73cb68ec7 A_1_8 A_2_8 A_3_8))\n",
      "57 (define-fun OR_c56e5966b7efbb8d () Bool (or AND_9ff2b37b65adb1e AND_776b53308c93b224 AND_339fdf0418cb9eb2 AND_3bda3cff5d9d2099 AND_c1bdf0ae7b6334f4 AND_7f0ad695ab8f3b5 AND_e35c3e17ede7db1 AND_fe735173dc820f50))\n",
      "58 (define-fun AND_cf439ce92e86f75 () Bool (and A_4_1 A_5_1))\n",
      "59 (define-fun AND_fa9d36b34c61562 () Bool (and AND_cf439ce92e86f75 A_4_1 A_5_1))\n",
      "60 (define-fun AND_8f05614749fb5083 () Bool (and A_4_2 A_5_2))\n",
      "61 (define-fun AND_4ae2c6fcf7b101a7 () Bool (and AND_8f05614749fb5083 A_4_2 A_5_2))\n",
      "62 (define-fun AND_ed320fa4783c75e6 () Bool (and A_4_3 A_5_3))\n",
      "63 (define-fun AND_67ee096848df0bfa () Bool (and AND_ed320fa4783c75e6 A_4_3 A_5_3))\n",
      "64 (define-fun AND_a49e2e35ecc860fa () Bool (and A_4_4 A_5_4))\n",
      "65 (define-fun AND_3f6d03f2cefe9263 () Bool (and AND_a49e2e35ecc860fa A_4_4 A_5_4))\n",
      "66 (define-fun AND_9e1854557efacef9 () Bool (and A_4_5 A_5_5))\n",
      "67 (define-fun AND_93c35a0b510feddf () Bool (and AND_9e1854557efacef9 A_4_5 A_5_5))\n",
      "68 (define-fun AND_db8c672e18df7a2c () Bool (and A_4_6 A_5_6))\n",
      "69 (define-fun AND_b450034a9bfd43af () Bool (and AND_db8c672e18df7a2c A_4_6 A_5_6))\n",
      "70 (define-fun AND_ccdbebe90fb6a7d6 () Bool (and A_4_7 A_5_7))\n",
      "71 (define-fun AND_13683013f3528302 () Bool (and AND_ccdbebe90fb6a7d6 A_4_7 A_5_7))\n",
      "72 (define-fun AND_9d0c3a74d43f40e2 () Bool (and A_4_8 A_5_8))\n",
      "73 (define-fun AND_c834225d824c5b4f () Bool (and AND_9d0c3a74d43f40e2 A_4_8 A_5_8))\n",
      "74 (define-fun OR_9c1c3bfd1773443a () Bool (or AND_fa9d36b34c61562 AND_4ae2c6fcf7b101a7 AND_67ee096848df0bfa AND_3f6d03f2cefe9263 AND_93c35a0b510feddf AND_b450034a9bfd43af AND_13683013f3528302 AND_c834225d824c5b4f))\n",
      "75 (define-fun AND_5507d71cae6de07d () Bool (and A_1_1 A_3_1 A_5_1))\n",
      "76 (define-fun AND_f5601700479b5bc3 () Bool (and AND_5507d71cae6de07d A_1_1 A_3_1 A_5_1))\n",
      "77 (define-fun AND_384e60c2582d295f () Bool (and A_1_2 A_3_2 A_5_2))\n",
      "78 (define-fun AND_86708ee917559851 () Bool (and AND_384e60c2582d295f A_1_2 A_3_2 A_5_2))\n",
      "79 (define-fun AND_7e5aab9e73cb48f7 () Bool (and A_1_3 A_3_3 A_5_3))\n",
      "80 (define-fun AND_8bbb0cd1ab3d5b6c () Bool (and AND_7e5aab9e73cb48f7 A_1_3 A_3_3 A_5_3))\n",
      "81 (define-fun AND_4d8347dbaf79c1de () Bool (and A_1_4 A_3_4 A_5_4))\n",
      "82 (define-fun AND_19154dbef26fc4a0 () Bool (and AND_4d8347dbaf79c1de A_1_4 A_3_4 A_5_4))\n",
      "83 (define-fun AND_c990bbba438b1937 () Bool (and A_1_5 A_3_5 A_5_5))\n",
      "84 (define-fun AND_37b7a00f70d748f1 () Bool (and AND_c990bbba438b1937 A_1_5 A_3_5 A_5_5))\n",
      "85 (define-fun AND_4062d73dca4d5d12 () Bool (and A_1_6 A_3_6 A_5_6))\n",
      "86 (define-fun AND_faec24a5573e996f () Bool (and AND_4062d73dca4d5d12 A_1_6 A_3_6 A_5_6))\n",
      "87 (define-fun AND_b257e176f88dbaea () Bool (and A_1_7 A_3_7 A_5_7))\n",
      "88 (define-fun AND_da2537b848610028 () Bool (and AND_b257e176f88dbaea A_1_7 A_3_7 A_5_7))\n",
      "89 (define-fun AND_e7d735eb88228ce8 () Bool (and A_1_8 A_3_8 A_5_8))\n",
      "90 (define-fun AND_2c62b33588acba6a () Bool (and AND_e7d735eb88228ce8 A_1_8 A_3_8 A_5_8))\n",
      "91 (define-fun OR_7a61a5f9e1e82a23 () Bool (or AND_f5601700479b5bc3 AND_86708ee917559851 AND_8bbb0cd1ab3d5b6c AND_19154dbef26fc4a0 AND_37b7a00f70d748f1 AND_faec24a5573e996f AND_da2537b848610028 AND_2c62b33588acba6a))\n",
      "92 (define-fun AND_6f01f58c22c4abcd () Bool (and A_3_1 A_4_1))\n",
      "93 (define-fun AND_898533a87ea57b30 () Bool (and AND_6f01f58c22c4abcd A_3_1 A_4_1))\n",
      "94 (define-fun AND_5617d41dc0a95103 () Bool (and A_3_2 A_4_2))\n",
      "95 (define-fun AND_2cbbe640378e48d2 () Bool (and AND_5617d41dc0a95103 A_3_2 A_4_2))\n",
      "96 (define-fun AND_646039c1c16e05fd () Bool (and A_3_3 A_4_3))\n",
      "97 (define-fun AND_8304ccd035338377 () Bool (and AND_646039c1c16e05fd A_3_3 A_4_3))\n",
      "98 (define-fun AND_52fde63b39bd166 () Bool (and A_3_4 A_4_4))\n",
      "99 (define-fun AND_fd1a28021b2e1b15 () Bool (and AND_52fde63b39bd166 A_3_4 A_4_4))\n",
      "100 (define-fun AND_b32f5fde0691ebfd () Bool (and A_3_5 A_4_5))\n",
      "101 (define-fun AND_aaac00a3ddeeeafe () Bool (and AND_b32f5fde0691ebfd A_3_5 A_4_5))\n",
      "102 (define-fun AND_f14f8adcf6a8ae94 () Bool (and A_3_6 A_4_6))\n",
      "103 (define-fun AND_6059950b23bf7dd9 () Bool (and AND_f14f8adcf6a8ae94 A_3_6 A_4_6))\n",
      "104 (define-fun AND_292af68ff186b6c1 () Bool (and A_3_7 A_4_7))\n",
      "105 (define-fun AND_9165dd5a8de319fd () Bool (and AND_292af68ff186b6c1 A_3_7 A_4_7))\n",
      "106 (define-fun AND_73f234790c1a7fc3 () Bool (and A_3_8 A_4_8))\n",
      "107 (define-fun AND_bde036bdf889b4e8 () Bool (and AND_73f234790c1a7fc3 A_3_8 A_4_8))\n",
      "108 (define-fun OR_c31978b319d44e66 () Bool (or AND_898533a87ea57b30 AND_2cbbe640378e48d2 AND_8304ccd035338377 AND_fd1a28021b2e1b15 AND_aaac00a3ddeeeafe AND_6059950b23bf7dd9 AND_9165dd5a8de319fd AND_bde036bdf889b4e8))\n",
      "109 (define-fun AND_638eb935e9366a47 () Bool (and A_1_1 A_4_1))\n",
      "110 (define-fun AND_39be459732359e1b () Bool (and AND_638eb935e9366a47 A_1_1 A_4_1))\n",
      "111 (define-fun AND_fcd90e6b8f2b8455 () Bool (and A_1_2 A_4_2))\n",
      "112 (define-fun AND_6f9ac98008f0947c () Bool (and AND_fcd90e6b8f2b8455 A_1_2 A_4_2))\n",
      "113 (define-fun AND_2c7529f7a081875b () Bool (and A_1_3 A_4_3))\n",
      "114 (define-fun AND_663f57b00ca44052 () Bool (and AND_2c7529f7a081875b A_1_3 A_4_3))\n",
      "115 (define-fun AND_5d0a15a81477a4d1 () Bool (and A_1_4 A_4_4))\n",
      "116 (define-fun AND_c5b85ff629aaf2a6 () Bool (and AND_5d0a15a81477a4d1 A_1_4 A_4_4))\n",
      "117 (define-fun AND_497de9b80ff534d1 () Bool (and A_1_5 A_4_5))\n",
      "118 (define-fun AND_653706858f05a213 () Bool (and AND_497de9b80ff534d1 A_1_5 A_4_5))\n",
      "119 (define-fun AND_e2f8ae31a22f5652 () Bool (and A_1_6 A_4_6))\n",
      "120 (define-fun AND_38a4577bf07113a3 () Bool (and AND_e2f8ae31a22f5652 A_1_6 A_4_6))\n",
      "121 (define-fun AND_52baf90e05fc911a () Bool (and A_1_7 A_4_7))\n",
      "122 (define-fun AND_b2019e3d8395e670 () Bool (and AND_52baf90e05fc911a A_1_7 A_4_7))\n",
      "123 (define-fun AND_842955db82b9e118 () Bool (and A_1_8 A_4_8))\n",
      "124 (define-fun AND_2ce32ad89a995a06 () Bool (and AND_842955db82b9e118 A_1_8 A_4_8))\n",
      "125 (define-fun OR_77bd4804b1920553 () Bool (or AND_39be459732359e1b AND_6f9ac98008f0947c AND_663f57b00ca44052 AND_c5b85ff629aaf2a6 AND_653706858f05a213 AND_38a4577bf07113a3 AND_b2019e3d8395e670 AND_2ce32ad89a995a06))\n",
      "126 (define-fun AND_23f7a2124e50e545 () Bool (and OR_c56e5966b7efbb8d OR_9c1c3bfd1773443a OR_7a61a5f9e1e82a23 OR_c31978b319d44e66 OR_77bd4804b1920553))\n",
      "127 (define-fun NOT_71aac0f717453642 () Bool (not A_1_2))(define-fun NOT_aa6196e5d4cc26af () Bool (not A_1_4))(define-fun NOT_cf2c14a0b2535f8 () Bool (not A_2_1))(define-fun NOT_826349772eba559b () Bool (not A_2_4))(define-fun NOT_1bac913b12a338bc () Bool (not A_2_5))(define-fun NOT_2262b4a859b33800 () Bool (not A_2_7))(define-fun NOT_e6e7927e39b6d0aa () Bool (not A_3_1))(define-fun NOT_d87862b6ff73dfa2 () Bool (not A_3_3))(define-fun NOT_384097f73d28f91 () Bool (not A_3_4))(define-fun NOT_ca4a492ce698a24c () Bool (not A_3_5))(define-fun NOT_6e5665199cdcabe6 () Bool (not A_3_6))(define-fun NOT_60b022ebd3fc95e0 () Bool (not A_3_7))(define-fun NOT_65ebb7bfd84897b7 () Bool (not A_4_3))(define-fun NOT_a4ac2e63ac5267f8 () Bool (not A_4_5))(define-fun NOT_569a776aa6467d1c () Bool (not A_4_7))(define-fun NOT_d9bf741be6fa2852 () Bool (not A_4_8))(define-fun NOT_5c95bf02c25d8a4a () Bool (not A_5_1))(define-fun NOT_72755625f2dad582 () Bool (not A_5_2))(define-fun NOT_d5f0d95ec3b95bec () Bool (not A_5_7))(define-fun AND_44661139c510cddc () Bool (and NOT_71aac0f717453642 NOT_aa6196e5d4cc26af NOT_cf2c14a0b2535f8 NOT_826349772eba559b NOT_1bac913b12a338bc NOT_2262b4a859b33800 NOT_e6e7927e39b6d0aa NOT_d87862b6ff73dfa2 NOT_384097f73d28f91 NOT_ca4a492ce698a24c NOT_6e5665199cdcabe6 NOT_60b022ebd3fc95e0 NOT_65ebb7bfd84897b7 NOT_a4ac2e63ac5267f8 NOT_569a776aa6467d1c NOT_d9bf741be6fa2852 NOT_5c95bf02c25d8a4a NOT_72755625f2dad582 NOT_d5f0d95ec3b95bec))\n",
      "128 (define-fun AND_9842cc730ff366c4 () Bool (and A_1_1 A_1_2 A_1_3))\n",
      "129 (define-fun NOT_c9179f19f5024f76 () Bool (not AND_9842cc730ff366c4))(define-fun AND_8251988d7749e1ca () Bool (and A_2_1 A_2_2 A_2_3))\n",
      "130 (define-fun NOT_3894fdbf71d3e760 () Bool (not AND_8251988d7749e1ca))(define-fun AND_e72c6edfeaf78500 () Bool (and A_3_1 A_3_2 A_3_3))\n"
     ]
    },
    {
     "name": "stdout",
     "output_type": "stream",
     "text": [
      "131 (define-fun NOT_78e7d4380262ec16 () Bool (not AND_e72c6edfeaf78500))(define-fun AND_c73f24b8dd6af83e () Bool (and A_4_1 A_4_2 A_4_3))\n",
      "132 (define-fun NOT_491cfd72123536fc () Bool (not AND_c73f24b8dd6af83e))(define-fun AND_33dbca13eb9caf1f () Bool (and A_5_1 A_5_2 A_5_3))\n",
      "133 (define-fun NOT_1e12d603f6c77deb () Bool (not AND_33dbca13eb9caf1f))(define-fun AND_29788cb84c19aca0 () Bool (and A_1_2 A_1_3 A_1_4))\n",
      "134 (define-fun NOT_cdf139b91870eeb6 () Bool (not AND_29788cb84c19aca0))(define-fun AND_db63f5cf4c4c2233 () Bool (and A_2_2 A_2_3 A_2_4))\n",
      "135 (define-fun NOT_5a78e8fd3c944312 () Bool (not AND_db63f5cf4c4c2233))(define-fun AND_c640dcfdd2ada9ea () Bool (and A_3_2 A_3_3 A_3_4))\n",
      "136 (define-fun NOT_c9e35a96ff9cb46e () Bool (not AND_c640dcfdd2ada9ea))(define-fun AND_2f57346120dbb07 () Bool (and A_4_2 A_4_3 A_4_4))\n",
      "137 (define-fun NOT_7d33765f49b9c9c5 () Bool (not AND_2f57346120dbb07))(define-fun AND_e96c4a42e5e6abcf () Bool (and A_5_2 A_5_3 A_5_4))\n",
      "138 (define-fun NOT_fcf31c28ee656c2 () Bool (not AND_e96c4a42e5e6abcf))(define-fun AND_2c22e4364bf9a1 () Bool (and A_1_3 A_1_4 A_1_5))\n",
      "139 (define-fun NOT_b9b6d0327e2ace1f () Bool (not AND_2c22e4364bf9a1))(define-fun AND_e6975669a51887c () Bool (and A_2_3 A_2_4 A_2_5))\n",
      "140 (define-fun NOT_a8ad9b063c60a221 () Bool (not AND_e6975669a51887c))(define-fun AND_edcf09eb96702f64 () Bool (and A_3_3 A_3_4 A_3_5))\n",
      "141 (define-fun NOT_427cb577b77f62a6 () Bool (not AND_edcf09eb96702f64))(define-fun AND_74be79a4582bbc27 () Bool (and A_4_3 A_4_4 A_4_5))\n",
      "142 (define-fun NOT_1a664d7452f6eae6 () Bool (not AND_74be79a4582bbc27))(define-fun AND_9ceea74be103e4c3 () Bool (and A_5_3 A_5_4 A_5_5))\n",
      "143 (define-fun NOT_abb2e10fff74090d () Bool (not AND_9ceea74be103e4c3))(define-fun AND_6287647228048500 () Bool (and A_1_4 A_1_5 A_1_6))\n",
      "144 (define-fun NOT_bfbe039b911b591c () Bool (not AND_6287647228048500))(define-fun AND_32cb7d69c6d18b49 () Bool (and A_2_4 A_2_5 A_2_6))\n",
      "145 (define-fun NOT_5bc7a0e4499f6ad5 () Bool (not AND_32cb7d69c6d18b49))(define-fun AND_70fa5055d3748cb () Bool (and A_3_4 A_3_5 A_3_6))\n",
      "146 (define-fun NOT_fd805c02e368da7c () Bool (not AND_70fa5055d3748cb))(define-fun AND_29b94a4eedd898bc () Bool (and A_4_4 A_4_5 A_4_6))\n",
      "147 (define-fun NOT_99c3c7f269f5f707 () Bool (not AND_29b94a4eedd898bc))(define-fun AND_87b76350c0b595b7 () Bool (and A_5_4 A_5_5 A_5_6))\n",
      "148 (define-fun NOT_bb496903dd9abc82 () Bool (not AND_87b76350c0b595b7))(define-fun AND_db2475741dc9d7dc () Bool (and A_1_5 A_1_6 A_1_7))\n",
      "149 (define-fun NOT_4cec76ea8e277419 () Bool (not AND_db2475741dc9d7dc))(define-fun AND_9010c2478e70cc6f () Bool (and A_2_5 A_2_6 A_2_7))\n",
      "150 (define-fun NOT_a6ce8f7bbb5e2c6f () Bool (not AND_9010c2478e70cc6f))(define-fun AND_13a445e018117fa8 () Bool (and A_3_5 A_3_6 A_3_7))\n",
      "151 (define-fun NOT_c684198b7119a0cb () Bool (not AND_13a445e018117fa8))(define-fun AND_73b09a2530d85435 () Bool (and A_4_5 A_4_6 A_4_7))\n",
      "152 (define-fun NOT_267fca51d9a4c8d6 () Bool (not AND_73b09a2530d85435))(define-fun AND_4234253dabfea4cb () Bool (and A_5_5 A_5_6 A_5_7))\n",
      "153 (define-fun NOT_c5cbf85bff79fbe3 () Bool (not AND_4234253dabfea4cb))(define-fun AND_352a781e1a478827 () Bool (and A_1_6 A_1_7 A_1_8))\n",
      "154 (define-fun NOT_ce4c105161ebdc1b () Bool (not AND_352a781e1a478827))(define-fun AND_a5cbaf2f2a57029c () Bool (and A_2_6 A_2_7 A_2_8))\n",
      "155 (define-fun NOT_e82a922f51f64b4d () Bool (not AND_a5cbaf2f2a57029c))(define-fun AND_8303c5c59ff68ec2 () Bool (and A_3_6 A_3_7 A_3_8))\n",
      "156 (define-fun NOT_81fb87b5c7fe9288 () Bool (not AND_8303c5c59ff68ec2))(define-fun AND_ae6e6593884fd4a5 () Bool (and A_4_6 A_4_7 A_4_8))\n",
      "157 (define-fun NOT_7e23b028ea286807 () Bool (not AND_ae6e6593884fd4a5))(define-fun AND_cc500edc8b7e4607 () Bool (and A_5_6 A_5_7 A_5_8))\n",
      "158 (define-fun NOT_2f04c7820acc2861 () Bool (not AND_cc500edc8b7e4607))(define-fun AND_d90e58815f040dd5 () Bool (and NOT_c9179f19f5024f76 NOT_3894fdbf71d3e760 NOT_78e7d4380262ec16 NOT_491cfd72123536fc NOT_1e12d603f6c77deb NOT_cdf139b91870eeb6 NOT_5a78e8fd3c944312 NOT_c9e35a96ff9cb46e NOT_7d33765f49b9c9c5 NOT_fcf31c28ee656c2 NOT_b9b6d0327e2ace1f NOT_a8ad9b063c60a221 NOT_427cb577b77f62a6 NOT_1a664d7452f6eae6 NOT_abb2e10fff74090d NOT_bfbe039b911b591c NOT_5bc7a0e4499f6ad5 NOT_fd805c02e368da7c NOT_99c3c7f269f5f707 NOT_bb496903dd9abc82 NOT_4cec76ea8e277419 NOT_a6ce8f7bbb5e2c6f NOT_c684198b7119a0cb NOT_267fca51d9a4c8d6 NOT_c5cbf85bff79fbe3 NOT_ce4c105161ebdc1b NOT_e82a922f51f64b4d NOT_81fb87b5c7fe9288 NOT_7e23b028ea286807 NOT_2f04c7820acc2861))\n",
      "159 (define-fun AND_3e13b8dc6504760a () Bool (and AND_23f7a2124e50e545 AND_44661139c510cddc AND_d90e58815f040dd5))\n",
      "160 (assert AND_3e13b8dc6504760a)\n",
      "161 (check-sat)\n",
      "162 (get-model)\n"
     ]
    }
   ],
   "source": [
    "for (i,line) in enumerate(readlines(open(\"out.smt\", \"r\")))\n",
    "    println(i, \" \", line)\n",
    "end"
   ]
  }
 ],
 "metadata": {
  "@webio": {
   "lastCommId": null,
   "lastKernelId": null
  },
  "kernelspec": {
   "display_name": "Julia 1.6.0",
   "language": "julia",
   "name": "julia-1.6"
  },
  "language_info": {
   "file_extension": ".jl",
   "mimetype": "application/julia",
   "name": "julia",
   "version": "1.6.0"
  }
 },
 "nbformat": 4,
 "nbformat_minor": 2
}
